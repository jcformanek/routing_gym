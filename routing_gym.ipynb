{
 "metadata": {
  "language_info": {
   "codemirror_mode": {
    "name": "ipython",
    "version": 3
   },
   "file_extension": ".py",
   "mimetype": "text/x-python",
   "name": "python",
   "nbconvert_exporter": "python",
   "pygments_lexer": "ipython3",
   "version": "3.6.9-final"
  },
  "orig_nbformat": 2,
  "kernelspec": {
   "name": "python36964bitroutinggymvenv0003b02d397d4bc79279121b8b2ceca6",
   "display_name": "Python 3.6.9 64-bit ('routing_gym': venv)"
  }
 },
 "nbformat": 4,
 "nbformat_minor": 2,
 "cells": [
  {
   "cell_type": "code",
   "execution_count": 6,
   "metadata": {},
   "outputs": [],
   "source": [
    "import numpy as np\n",
    "import networkx as nx\n",
    "from networkx.algorithms.simple_paths import shortest_simple_paths"
   ]
  },
  {
   "cell_type": "code",
   "execution_count": 53,
   "metadata": {},
   "outputs": [],
   "source": [
    "class RoutingEnv():\n",
    "    def __init__(self, k=4, max_b=200):\n",
    "        self.k = k\n",
    "        self.max_bandwidth = max_b\n",
    "        self.G = None\n",
    "        self.n = None\n",
    "        self.traffic_matrix = None\n",
    "        self.actions = None\n",
    "        self.shortest_paths = None\n",
    "        self.bandwidth = None\n",
    "        self.done = True\n",
    "\n",
    "\n",
    "    def get_actions(self):\n",
    "        src, dst = np.random.choice(self.G.number_of_nodes(), size=2, replace=False)\n",
    "        all_paths = shortest_simple_paths(self.G, src, dst)\n",
    "        shortest_paths = []\n",
    "        for i, p in enumerate(all_paths):\n",
    "            if i >= self.k:\n",
    "                break\n",
    "            shortest_paths.append(p)\n",
    "        \n",
    "        bandwidth = np.random.choice([2, 4, 8, 16, 32, 64], size=1)\n",
    "        actions = []\n",
    "        for P in shortest_paths:\n",
    "            actions.append(np.zeros_like(self.traffic_matrix))\n",
    "            action = actions[-1]\n",
    "            for i in range(len(P) - 1):\n",
    "                action[P[i], P[i+1]] = bandwidth\n",
    "\n",
    "        return actions, shortest_paths, bandwidth\n",
    "\n",
    "\n",
    "    def reset(self, nx_G):\n",
    "        \"\"\" \n",
    "        nx_G: a Networkx graph giving the topology of the network to train on\n",
    "        \"\"\"\n",
    "        \n",
    "        self.G = nx_G\n",
    "        self.n = self.G.number_of_nodes()\n",
    "        self.traffic_matrix = np.zeros((self.n, self.n), dtype=np.int16)\n",
    "        self.actions, self.shortest_paths, self.bandwidth = self.get_actions()\n",
    "        self.done = False\n",
    "\n",
    "        return self.actions\n",
    "\n",
    "    \n",
    "    def step(self, act):\n",
    "        \"\"\"\n",
    "        act: int in the interval [0,k]\n",
    "        \"\"\"\n",
    "        if self.done or act not in range(self.k+1):\n",
    "            print(\"Error\")\n",
    "            return\n",
    "\n",
    "        self.traffic_matrix = self.traffic_matrix + self.actions[act]\n",
    "        P = self.shortest_paths[act]\n",
    "        for i in range(len(P) - 1):\n",
    "            if self.traffic_matrix[P[i], P[i+1]] > self.max_bandwidth:\n",
    "                self.done = True\n",
    "                return [], 0, self.done\n",
    "\n",
    "        reward = self.bandwidth\n",
    "        self.actions, self.shortest_paths, self.bandwidth = self.get_actions()\n",
    "\n",
    "        return self.actions, reward, self.done\n",
    "\n",
    "    def sample_action(self):\n",
    "        return np.random.choice(self.k, size=1)\n",
    "        \n",
    "\n",
    "        \n",
    "\n"
   ]
  },
  {
   "cell_type": "code",
   "execution_count": 54,
   "metadata": {},
   "outputs": [
    {
     "output_type": "error",
     "ename": "NameError",
     "evalue": "name 'k' is not defined",
     "traceback": [
      "\u001b[0;31m---------------------------------------------------------------------------\u001b[0m",
      "\u001b[0;31mNameError\u001b[0m                                 Traceback (most recent call last)",
      "\u001b[0;32m<ipython-input-54-798bf1997833>\u001b[0m in \u001b[0;36m<module>\u001b[0;34m\u001b[0m\n\u001b[1;32m      5\u001b[0m \u001b[0mdone\u001b[0m \u001b[0;34m=\u001b[0m \u001b[0;32mFalse\u001b[0m\u001b[0;34m\u001b[0m\u001b[0;34m\u001b[0m\u001b[0m\n\u001b[1;32m      6\u001b[0m \u001b[0;32mwhile\u001b[0m \u001b[0;32mnot\u001b[0m \u001b[0mdone\u001b[0m\u001b[0;34m:\u001b[0m\u001b[0;34m\u001b[0m\u001b[0;34m\u001b[0m\u001b[0m\n\u001b[0;32m----> 7\u001b[0;31m     \u001b[0m_\u001b[0m\u001b[0;34m,\u001b[0m \u001b[0m_\u001b[0m\u001b[0;34m,\u001b[0m \u001b[0mdone\u001b[0m \u001b[0;34m=\u001b[0m \u001b[0menv\u001b[0m\u001b[0;34m.\u001b[0m\u001b[0mstep\u001b[0m\u001b[0;34m(\u001b[0m\u001b[0menv\u001b[0m\u001b[0;34m.\u001b[0m\u001b[0msample_action\u001b[0m\u001b[0;34m(\u001b[0m\u001b[0;34m)\u001b[0m\u001b[0;34m)\u001b[0m\u001b[0;34m\u001b[0m\u001b[0;34m\u001b[0m\u001b[0m\n\u001b[0m",
      "\u001b[0;32m<ipython-input-53-86faaf34fd26>\u001b[0m in \u001b[0;36mstep\u001b[0;34m(self, act)\u001b[0m\n\u001b[1;32m     50\u001b[0m         \u001b[0mact\u001b[0m\u001b[0;34m:\u001b[0m \u001b[0mint\u001b[0m \u001b[0;32min\u001b[0m \u001b[0mthe\u001b[0m \u001b[0minterval\u001b[0m \u001b[0;34m[\u001b[0m\u001b[0;36m0\u001b[0m\u001b[0;34m,\u001b[0m\u001b[0mk\u001b[0m\u001b[0;34m]\u001b[0m\u001b[0;34m\u001b[0m\u001b[0;34m\u001b[0m\u001b[0m\n\u001b[1;32m     51\u001b[0m         \"\"\"\n\u001b[0;32m---> 52\u001b[0;31m         \u001b[0;32mif\u001b[0m \u001b[0mself\u001b[0m\u001b[0;34m.\u001b[0m\u001b[0mdone\u001b[0m \u001b[0;32mor\u001b[0m \u001b[0mact\u001b[0m \u001b[0;32mnot\u001b[0m \u001b[0;32min\u001b[0m \u001b[0mrange\u001b[0m\u001b[0;34m(\u001b[0m\u001b[0mk\u001b[0m\u001b[0;34m+\u001b[0m\u001b[0;36m1\u001b[0m\u001b[0;34m)\u001b[0m\u001b[0;34m:\u001b[0m\u001b[0;34m\u001b[0m\u001b[0;34m\u001b[0m\u001b[0m\n\u001b[0m\u001b[1;32m     53\u001b[0m             \u001b[0mprint\u001b[0m\u001b[0;34m(\u001b[0m\u001b[0;34m\"Error\"\u001b[0m\u001b[0;34m)\u001b[0m\u001b[0;34m\u001b[0m\u001b[0;34m\u001b[0m\u001b[0m\n\u001b[1;32m     54\u001b[0m             \u001b[0;32mreturn\u001b[0m\u001b[0;34m\u001b[0m\u001b[0;34m\u001b[0m\u001b[0m\n",
      "\u001b[0;31mNameError\u001b[0m: name 'k' is not defined"
     ]
    }
   ],
   "source": [
    "P = nx.petersen_graph()\n",
    "nx.draw(P, with_labels=True)\n",
    "env = RoutingEnv()\n",
    "env.reset(P)\n",
    "done = False\n",
    "while not done:\n",
    "    _, _, done = env.step(env.sample_action())"
   ]
  },
  {
   "cell_type": "code",
   "execution_count": null,
   "metadata": {},
   "outputs": [],
   "source": []
  },
  {
   "cell_type": "code",
   "execution_count": null,
   "metadata": {},
   "outputs": [],
   "source": []
  }
 ]
}