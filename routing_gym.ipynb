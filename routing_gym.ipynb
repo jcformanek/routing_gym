{
 "metadata": {
  "language_info": {
   "codemirror_mode": {
    "name": "ipython",
    "version": 3
   },
   "file_extension": ".py",
   "mimetype": "text/x-python",
   "name": "python",
   "nbconvert_exporter": "python",
   "pygments_lexer": "ipython3",
   "version": "3.6.9-final"
  },
  "orig_nbformat": 2,
  "kernelspec": {
   "name": "python36964bitroutinggymvenv0003b02d397d4bc79279121b8b2ceca6",
   "display_name": "Python 3.6.9 64-bit ('routing_gym': venv)"
  }
 },
 "nbformat": 4,
 "nbformat_minor": 2,
 "cells": [
  {
   "cell_type": "code",
   "execution_count": 59,
   "metadata": {
    "tags": []
   },
   "outputs": [],
   "source": [
    "import numpy as np\n",
    "import networkx as nx\n",
    "from routing_gym import RoutingEnv\n",
    "import dgl\n",
    "import torch\n",
    "from networkx.algorithms.simple_paths import shortest_simple_paths"
   ]
  },
  {
   "cell_type": "code",
   "execution_count": 46,
   "metadata": {
    "tags": []
   },
   "outputs": [
    {
     "output_type": "stream",
     "name": "stdout",
     "text": "15\n30\n"
    }
   ],
   "source": [
    "P = nx.petersen_graph()\n",
    "print(P.number_of_edges())\n",
    "dgl_P = dgl.DGLGraph(P)\n",
    "print(dgl_P.number_of_edges())\n",
    "env = RoutingEnv(P)"
   ]
  },
  {
   "cell_type": "code",
   "execution_count": 27,
   "metadata": {},
   "outputs": [
    {
     "output_type": "execute_result",
     "data": {
      "text/plain": "tensor([[1., 0., 0., 0.],\n        [0., 0., 0., 0.]])"
     },
     "metadata": {},
     "execution_count": 27
    }
   ],
   "source": []
  },
  {
   "cell_type": "code",
   "execution_count": 55,
   "metadata": {},
   "outputs": [],
   "source": [
    "def alloc_demand(graph, paths, bw):\n",
    "    \"\"\"\n",
    "    graph: dgl graph\n",
    "    path: list of node index (int)\n",
    "    bw: bandwidth [8, 32, 64] (int)\n",
    "    \"\"\"\n",
    "    for i, path in enumerate(paths):\n",
    "        src = path[:-1] + path[1:]\n",
    "        dst = path[1:] + path[:-1]\n",
    "        graph.edata[\"feat\"][graph.edge_ids(src, dst), i+1] = torch.zeros(len(src))+bw\n",
    "\n",
    "    return graph\n"
   ]
  },
  {
   "cell_type": "code",
   "execution_count": 58,
   "metadata": {},
   "outputs": [],
   "source": [
    "def step(act, paths, graph, nx_graph, k):\n",
    "    \"\"\"\n",
    "    act: int corresponding with the chosen path to allocate the demand on\n",
    "    \"\"\"\n",
    "    path = paths[act]\n",
    "    src = path[:-1] + path[1:]\n",
    "    dst = path[1:] + path[:-1]\n",
    "    graph.edata[\"feat\"][graph.edge_ids(src, dst), 0] -= bw\n",
    "    src, dst = np.random.choice(nx_graph.number_of_nodes(), size=2, replace=False)\n",
    "    shortest_paths = shortest_simple_paths(nx_graph, src, dst)[:k]\n",
    "    bw = np.random.choice([8, 32, 64])\n",
    "    alloc_demand(graph, shortest_paths, bw)"
   ]
  },
  {
   "cell_type": "code",
   "execution_count": 57,
   "metadata": {},
   "outputs": [
    {
     "output_type": "execute_result",
     "data": {
      "text/plain": "tensor([[0., 0., 0., 0., 0., 0., 0., 0., 0., 0.],\n        [0., 0., 0., 0., 0., 0., 0., 0., 0., 0.],\n        [0., 0., 0., 0., 0., 0., 0., 0., 0., 0.],\n        [0., 0., 0., 0., 0., 0., 0., 0., 0., 0.],\n        [0., 1., 1., 0., 0., 0., 0., 0., 0., 0.],\n        [0., 0., 0., 0., 0., 0., 0., 0., 0., 0.],\n        [0., 1., 1., 0., 0., 0., 0., 0., 0., 0.],\n        [0., 1., 0., 0., 0., 0., 0., 0., 0., 0.],\n        [0., 0., 1., 0., 0., 0., 0., 0., 0., 0.],\n        [0., 1., 0., 0., 0., 0., 0., 0., 0., 0.],\n        [0., 0., 0., 0., 0., 0., 0., 0., 0., 0.],\n        [0., 0., 0., 0., 0., 0., 0., 0., 0., 0.],\n        [0., 0., 0., 0., 0., 0., 0., 0., 0., 0.],\n        [0., 0., 0., 0., 0., 0., 0., 0., 0., 0.],\n        [0., 0., 0., 0., 0., 0., 0., 0., 0., 0.],\n        [0., 0., 0., 0., 0., 0., 0., 0., 0., 0.],\n        [0., 0., 0., 0., 0., 0., 0., 0., 0., 0.],\n        [0., 0., 0., 0., 0., 0., 0., 0., 0., 0.],\n        [0., 0., 0., 0., 0., 0., 0., 0., 0., 0.],\n        [0., 0., 0., 0., 0., 0., 0., 0., 0., 0.],\n        [0., 0., 0., 0., 0., 0., 0., 0., 0., 0.],\n        [0., 0., 1., 0., 0., 0., 0., 0., 0., 0.],\n        [0., 0., 0., 0., 0., 0., 0., 0., 0., 0.],\n        [0., 0., 0., 0., 0., 0., 0., 0., 0., 0.],\n        [0., 0., 0., 0., 0., 0., 0., 0., 0., 0.],\n        [0., 0., 0., 0., 0., 0., 0., 0., 0., 0.],\n        [0., 0., 0., 0., 0., 0., 0., 0., 0., 0.],\n        [0., 0., 0., 0., 0., 0., 0., 0., 0., 0.],\n        [0., 0., 0., 0., 0., 0., 0., 0., 0., 0.],\n        [0., 0., 0., 0., 0., 0., 0., 0., 0., 0.]])"
     },
     "metadata": {},
     "execution_count": 57
    }
   ],
   "source": [
    "dgl_P = dgl.DGLGraph(P)\n",
    "dgl_P.edata[\"feat\"] = torch.zeros((dgl_P.number_of_edges(), 10))\n",
    "alloc_demand(dgl_P, [[1,2,3], [1,2,7]], 1)\n",
    "dgl_P.edata['feat']"
   ]
  },
  {
   "cell_type": "code",
   "execution_count": 28,
   "metadata": {},
   "outputs": [
    {
     "output_type": "execute_result",
     "data": {
      "text/plain": "tensor([1., 1., 1., 1.])"
     },
     "metadata": {},
     "execution_count": 28
    }
   ],
   "source": [
    "torch.zeros(4) + 1"
   ]
  },
  {
   "cell_type": "code",
   "execution_count": null,
   "metadata": {},
   "outputs": [],
   "source": []
  }
 ]
}