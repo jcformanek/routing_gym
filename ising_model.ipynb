{
 "metadata": {
  "language_info": {
   "codemirror_mode": {
    "name": "ipython",
    "version": 3
   },
   "file_extension": ".py",
   "mimetype": "text/x-python",
   "name": "python",
   "nbconvert_exporter": "python",
   "pygments_lexer": "ipython3",
   "version": "3.6.9-final"
  },
  "orig_nbformat": 2,
  "kernelspec": {
   "name": "python36964bitroutinggymvenv0003b02d397d4bc79279121b8b2ceca6",
   "display_name": "Python 3.6.9 64-bit ('routing_gym': venv)"
  }
 },
 "nbformat": 4,
 "nbformat_minor": 2,
 "cells": [
  {
   "cell_type": "code",
   "execution_count": 77,
   "metadata": {},
   "outputs": [],
   "source": [
    "import networkx as nx\n",
    "import numpy as np\n",
    "import copy"
   ]
  },
  {
   "cell_type": "code",
   "execution_count": 84,
   "metadata": {},
   "outputs": [],
   "source": [
    "def random_spin_config(graph):\n",
    "    \"\"\"\n",
    "    graph: networkx graph\n",
    "\n",
    "    returns: a numpy array of length graph.number_of_nodes() with uniformly random sampled -1s & 1s\n",
    "    \"\"\"\n",
    "    n = graph.number_of_nodes()\n",
    "    spins = np.random.choice([1,-1], size=n)\n",
    "    return spins\n",
    "    "
   ]
  },
  {
   "cell_type": "code",
   "execution_count": 85,
   "metadata": {
    "tags": []
   },
   "outputs": [
    {
     "output_type": "stream",
     "name": "stdout",
     "text": "Spins: [ 1  1 -1 -1  1 -1 -1  1 -1  1]\n"
    }
   ],
   "source": [
    "# Example\n",
    "p = nx.petersen_graph()\n",
    "spins = random_spin_config(p)\n",
    "print(\"Spins:\", spins)"
   ]
  },
  {
   "cell_type": "markdown",
   "metadata": {},
   "source": [
    "Is J usually negative in the function below? Cause otherwise the ising hamiltonian is minimized when all spins point in the same direction, which would be lame."
   ]
  },
  {
   "cell_type": "code",
   "execution_count": 86,
   "metadata": {},
   "outputs": [],
   "source": [
    "def total_energy(graph, spins, J=-1):\n",
    "    \"\"\"\n",
    "    spins: numpy array of length graph.number_of_nodes()\n",
    "    \"\"\"\n",
    "    E = 0\n",
    "    for u, v in graph.edges:\n",
    "        E += spins[u] * spins[v]\n",
    "    return -J * E"
   ]
  },
  {
   "cell_type": "code",
   "execution_count": 107,
   "metadata": {
    "tags": []
   },
   "outputs": [
    {
     "output_type": "stream",
     "name": "stdout",
     "text": "Energy: 1\n"
    }
   ],
   "source": [
    "# Example \n",
    "p = nx.petersen_graph()\n",
    "spins = random_spin_config(p)\n",
    "E = total_energy(p, spins)\n",
    "print(\"Energy:\", E)"
   ]
  },
  {
   "cell_type": "code",
   "execution_count": 117,
   "metadata": {},
   "outputs": [],
   "source": [
    "def update_one(graph, spins, J=-1, beta=1):\n",
    "    \"\"\"\n",
    "    graph: networkx graph\n",
    "    spins: numpy array of length graph.number_of_nodes()\n",
    "\n",
    "    Randomly choses a node and tries to flip its spin. The flip is either accepted or rejected.\n",
    "    Returns the updated spins array.\n",
    "    \"\"\"\n",
    "    u = np.random.randint(len(spins))\n",
    "    E_start = 0\n",
    "    E_end = 0\n",
    "    for v in graph.adj[u]:\n",
    "        E_start += spins[u] * spins[v]\n",
    "        E_end -= spins[u] * spins[v] # flip the spin on u\n",
    "    delta_E = -J * (E_end - E_start)\n",
    "\n",
    "    if delta_E < 0:\n",
    "        spins[u] *= -1\n",
    "        return spins\n",
    "    elif delta_E > 0 and np.random.random() <= np.e ** (-delta_E*beta):\n",
    "        spins[u] *= -1\n",
    "        return spins\n",
    "    else:\n",
    "        return spins\n"
   ]
  },
  {
   "cell_type": "code",
   "execution_count": 118,
   "metadata": {
    "tags": []
   },
   "outputs": [
    {
     "output_type": "stream",
     "name": "stdout",
     "text": "Initial spin config: [-1  1 -1  1  1  1 -1 -1 -1  1]\nSpin config after one update: [-1  1  1  1  1  1 -1 -1 -1  1]\nDifference: [0 0 2 0 0 0 0 0 0 0]\n"
    }
   ],
   "source": [
    "# Example\n",
    "p = nx.petersen_graph()\n",
    "spins = random_spin_config(p)\n",
    "old_spins = copy.copy(spins)\n",
    "print(\"Initial spin config:\", old_spins)\n",
    "spins = update_one(p, spins)\n",
    "print(\"Spin config after one update:\", spins)\n",
    "print(\"Difference:\", spins - old_spins)"
   ]
  },
  {
   "cell_type": "code",
   "execution_count": 119,
   "metadata": {
    "tags": []
   },
   "outputs": [],
   "source": [
    "def update_many(graph, spins, num_iter, J=-1, beta=1):\n",
    "    spins = random_spin_config(p)\n",
    "    for i in range(num_iter):\n",
    "        spins = update_one(p, spins, J, beta)\n",
    "    return spins"
   ]
  },
  {
   "cell_type": "code",
   "execution_count": 123,
   "metadata": {
    "tags": []
   },
   "outputs": [
    {
     "output_type": "stream",
     "name": "stdout",
     "text": "Initial energy: 3\nEnergy after 1000000 updates: -7\nEnergy after 2000000 updates: -7\nEnergy after 3000000 updates: -7\nEnergy after 4000000 updates: -9\nEnergy after 5000000 updates: -9\n"
    }
   ],
   "source": [
    "# Example\n",
    "p = nx.petersen_graph()\n",
    "spins = random_spin_config(p)\n",
    "print(\"Initial energy:\", total_energy(p, spins))\n",
    "spins = update_many(p, spins, 1000000)\n",
    "print(\"Energy after 1000000 updates:\", total_energy(p, spins))\n",
    "spins = update_many(p, spins, 1000000)\n",
    "print(\"Energy after 2000000 updates:\", total_energy(p, spins))\n",
    "spins = update_many(p, spins, 1000000)\n",
    "print(\"Energy after 3000000 updates:\", total_energy(p, spins))\n",
    "spins = update_many(p, spins, 1000000)\n",
    "print(\"Energy after 4000000 updates:\", total_energy(p, spins))\n",
    "spins = update_many(p, spins, 1000000)\n",
    "print(\"Energy after 5000000 updates:\", total_energy(p, spins))"
   ]
  },
  {
   "cell_type": "markdown",
   "metadata": {},
   "source": [
    "It seems to oscilate between -7 and -9. I dont know if that is a bug or not!?"
   ]
  }
 ]
}